{
 "cells": [
  {
   "cell_type": "code",
   "execution_count": 1,
   "metadata": {},
   "outputs": [],
   "source": [
    "try:\n",
    "  # We must install required packages if we are in Google Colab\n",
    "  import google.colab\n",
    "  %pip install roboticstoolbox-python>=1.0.2\n",
    "except:\n",
    "  # We are not in Google Colab\n",
    "  # Apply custon style to notebook\n",
    "  from IPython.core.display import HTML\n",
    "  import pathlib\n",
    "  styles_path = pathlib.Path(pathlib.Path().absolute(), \"style\", \"style.css\")\n",
    "  styles = open(styles_path, \"r\").read()\n",
    "  HTML(f\"<style>{styles}</style>\")"
   ]
  },
  {
   "attachments": {},
   "cell_type": "markdown",
   "metadata": {},
   "source": [
    "$\\large{\\text{Foundations of Kinematics and Algorithms in Robotics}} \\\\ \\large{\\text{Module 3: Twists and Interpolation}}$\n",
    "\n",
    "$\\text{By Jesse Haviland and Peter Corke}$\n",
    "\n",
    "<br>\n",
    "\n",
    "### Contents\n",
    "\n",
    "[1.0 What is Position?](#1)  \n",
    "[2.0 What is Orientation?](#2)  \n",
    "[3.0 Homogeneous Coordinates](#3)  \n",
    "[4.0 Pose Graphs](#4)  "
   ]
  },
  {
   "cell_type": "code",
   "execution_count": 2,
   "metadata": {},
   "outputs": [],
   "source": [
    "# We will do the imports required for this notebook here\n",
    "\n",
    "# numpy provides import array and linear algebra utilities\n",
    "import numpy as np\n",
    "\n",
    "# the robotics toolbox provides robotics specific functionality\n",
    "import roboticstoolbox as rtb\n",
    "\n",
    "# spatial math provides objects for representing transformations\n",
    "import spatialmath as sm\n",
    "import spatialmath.base as smb\n",
    "\n",
    "import spatialgeometry as sg\n",
    "\n",
    "# The matrix exponential method\n",
    "from scipy.linalg import expm, logm\n",
    "\n",
    "# sympy provides symbolic mathematic operations \n",
    "import sympy as sym\n",
    "\n",
    "# setting up sympy to print nicely\n",
    "from IPython import display as ds\n",
    "from sympy.physics.mechanics import init_vprinting\n",
    "from sympy.physics.vector import vlatex\n",
    "init_vprinting(use_latex='mathjax')"
   ]
  },
  {
   "attachments": {},
   "cell_type": "markdown",
   "metadata": {},
   "source": [
    "Videos\n",
    "\n",
    "[What is e?](https://youtu.be/O85OWBJ2ayo)"
   ]
  },
  {
   "attachments": {},
   "cell_type": "markdown",
   "metadata": {},
   "source": [
    "<br>\n",
    "\n",
    "<a id='2'></a>\n",
    "# 1.0 Twists\n",
    "---"
   ]
  },
  {
   "attachments": {},
   "cell_type": "markdown",
   "metadata": {},
   "source": [
    "Earlier, we discussed the concept of Lie groups and we explained how we can get an $\\mathbf{SO}(3)$ from the angle-axis representation:\n",
    "\n",
    "Given the angle axis representation where\n",
    "$$\n",
    "    \\hat{\\mathbf{\\eta}} = \\begin{pmatrix}\n",
    "        \\hat{\\eta}_1 \\\\\n",
    "        \\hat{\\eta}_2 \\\\\n",
    "        \\hat{\\eta}_3\n",
    "    \\end{pmatrix}\n",
    "$$\n",
    "\n",
    "defines the axis of rotation, and $\\theta$ is the angle of rotation, we can get the Euler vector (also known as the exponential coordinates) by\n",
    "\n",
    "\\begin{equation*}\n",
    "    \\bf{\\eta} =\n",
    "    \\hat{\\eta} \\ \\theta \\in \\mathbb{R}^3\n",
    "\\end{equation*}\n",
    "\n",
    "and we can turn the Euler vector into an $\\mathbf{so}(3)$ matrix (the Lie algebra of the $\\mathbf{SO}(3)$ group) through the `skew` operation\n",
    "\n",
    "$$\n",
    "    [\\mathbf{\\eta}]_\\times =\n",
    "    \\begin{pmatrix}\n",
    "        0 & -\\eta_3 & \\eta_2 \\\\\n",
    "        \\eta_3 & 0 & -\\eta_1 \\\\\n",
    "        -\\eta_2 & \\eta_1 & 0\n",
    "    \\end{pmatrix} \\in \\mathbf{so}(3).\n",
    "$$\n",
    "\n",
    "Finally, we can construct the $\\mathbf{SO}(3)$ matrix from the $\\mathbf{so}(3)$ matrix using the matrix exponential\n",
    "\n",
    "$$\n",
    "    \\mathbf{R}(\\mathbf{\\eta}) = e^{[\\mathbf{\\eta}]_\\times} \\in \\mathbf{SO}(3).\n",
    "$$\n",
    "\n",
    "We can also follow this process with a vector $\\mathbf{s} \\in \\mathbb{R}^6$ to get an $\\mathbf{SE}(3)$ matrix. Through the vector $\\mathbf{s}$, we can define a pose (translation and rotation)."
   ]
  },
  {
   "attachments": {},
   "cell_type": "markdown",
   "metadata": {},
   "source": [
    "## Representing Pose as a Twist\n",
    "\n",
    "We can represent pose as a twist\n",
    "\n",
    "$$\n",
    "    \\mathbf{s} =\n",
    "    \\begin{pmatrix}\n",
    "        \\upsilon_1 \\\\\n",
    "        \\upsilon_2 \\\\\n",
    "        \\upsilon_3 \\\\\n",
    "        \\eta_1 \\\\\n",
    "        \\eta_2 \\\\\n",
    "        \\eta_3\n",
    "    \\end{pmatrix}\n",
    "    \\in \\mathbb{R}^6\n",
    "$$\n",
    "\n",
    "where the first three elements $\\mathbf{\\upsilon}$ define the translation and the last three elements $\\mathbf{\\eta}$ define the rotation.\n",
    "\n",
    "_Note that we are using the Greek letter upsilon $\\upsilon$ (not to be confused with the English letter $v$ or the Greek letter nu $\\nu$) to represent the translation component._\n",
    "\n"
   ]
  },
  {
   "attachments": {},
   "cell_type": "markdown",
   "metadata": {},
   "source": [
    "We can convert a twist into an augmented skew symmetric matrix (the Lie algebra of the $\\mathbf{SE}(3)$ group) using the `skewa` operation\n",
    "\n",
    "$$\n",
    "    [\\mathbf{s}] =\n",
    "    \\begin{pmatrix}\n",
    "        0 & -\\eta_3 & \\eta_2 & \\upsilon_1 \\\\\n",
    "        \\eta_3 & 0 & -\\eta_1 & \\upsilon_2 \\\\\n",
    "        -\\eta_2 & \\eta_1 & 0 & \\upsilon_3 \\\\\n",
    "        0 & 0 & 0 & 0\n",
    "    \\end{pmatrix} \\in \\mathbf{se}(3).\n",
    "$$\n",
    "\n",
    "and we can convert this matrix into an $\\mathbf{SE}(3)$ matrix using the matrix exponential\n",
    "\n",
    "$$\n",
    "    \\mathbf{T}(\\mathbf{s}) = e^{[\\mathbf{s}]} \\in \\mathbf{SE}(3).\n",
    "$$"
   ]
  },
  {
   "attachments": {},
   "cell_type": "markdown",
   "metadata": {},
   "source": [
    "## The Zero Twist\n",
    "\n",
    "What happens if we make a twist with all zeros?\n",
    "\n",
    "$$\n",
    "    \\mathbf{s} =\n",
    "    \\begin{pmatrix}\n",
    "        0 \\\\\n",
    "        0 \\\\\n",
    "        0 \\\\\n",
    "        0 \\\\\n",
    "        0 \\\\\n",
    "        0\n",
    "    \\end{pmatrix}\n",
    "$$\n",
    "\n",
    "We can convert this into an augmented skew symmetric matrix\n",
    "\n",
    "$$\n",
    "    [\\mathbf{s}] =\n",
    "    \\begin{pmatrix}\n",
    "        0 & 0 & 0 & 0 \\\\\n",
    "        0 & 0 & 0 & 0 \\\\\n",
    "        0 & 0 & 0 & 0 \\\\\n",
    "        0 & 0 & 0 & 0\n",
    "    \\end{pmatrix}\n",
    "$$\n",
    "\n",
    "and we can convert this matrix into an $\\mathbf{SE}(3)$ matrix using the matrix exponential\n",
    "\n",
    "\\begin{align*}\n",
    "    \\mathbf{T}(\\mathbf{s})\n",
    "    &= e^{[\\mathbf{s}]} \\\\\n",
    "    &=\n",
    "    \\begin{pmatrix}\n",
    "        1 & 0 & 0 & 0 \\\\\n",
    "        0 & 1 & 0 & 0 \\\\\n",
    "        0 & 0 & 1 & 0 \\\\\n",
    "        0 & 0 & 0 & 1\n",
    "    \\end{pmatrix} \n",
    "\\end{align*}\n",
    "\n",
    "which gives us the identity matrix.\n"
   ]
  },
  {
   "attachments": {},
   "cell_type": "markdown",
   "metadata": {},
   "source": [
    "## Rotation only Twist\n",
    "\n",
    "What happens if we make a twist around the $z$-axis and no translation component?\n",
    "\n",
    "$$\n",
    "    \\mathbf{s}(\\theta) =\n",
    "    \\begin{pmatrix}\n",
    "        0 \\\\\n",
    "        0 \\\\\n",
    "        0 \\\\\n",
    "        0 \\\\\n",
    "        0 \\\\\n",
    "        \\theta\n",
    "    \\end{pmatrix}\n",
    "$$\n",
    "\n",
    "We can convert this into an augmented skew symmetric matrix\n",
    "\n",
    "$$\n",
    "    [\\mathbf{s}(\\theta)] =\n",
    "    \\begin{pmatrix}\n",
    "        0 & -\\theta & 0 & 0 \\\\\n",
    "        \\theta & 0 & 0 & 0 \\\\\n",
    "        0 & 0 & 0 & 0 \\\\\n",
    "        0 & 0 & 0 & 0\n",
    "    \\end{pmatrix}\n",
    "$$\n",
    "\n",
    "and we can convert this matrix into an $\\mathbf{SE}(3)$ matrix using the matrix exponential\n",
    "\n",
    "\\begin{align*}\n",
    "    \\mathbf{T}(\\theta)\n",
    "    &= e^{[\\mathbf{s}(\\theta)]} \\\\\n",
    "    &=\n",
    "    \\begin{pmatrix}\n",
    "        \\cos(\\theta) & -\\sin(\\theta) & 0 & 0 \\\\\n",
    "        \\sin(\\theta) & \\cos(\\theta) & 0 & 0 \\\\\n",
    "        0 & 0 & 1 & 0 \\\\\n",
    "        0 & 0 & 0 & 1\n",
    "    \\end{pmatrix}\n",
    "\\end{align*}\n",
    "\n"
   ]
  },
  {
   "attachments": {},
   "cell_type": "markdown",
   "metadata": {},
   "source": [
    "And we can see this is just a rotation matrix around the $z$-axis embedded in an $\\mathbf{SE}(3)$ matrix."
   ]
  },
  {
   "attachments": {},
   "cell_type": "markdown",
   "metadata": {},
   "source": [
    "## Translation only Twist\n",
    "\n",
    "What happens if we make a twist with no rotation component and a translation component?\n",
    "\n",
    "$$\n",
    "    \\mathbf{s}(\\upsilon) =\n",
    "    \\begin{pmatrix}\n",
    "        \\upsilon_1 \\\\\n",
    "        \\upsilon_2 \\\\\n",
    "        \\upsilon_3 \\\\\n",
    "        0 \\\\\n",
    "        0 \\\\\n",
    "        0\n",
    "    \\end{pmatrix}\n",
    "$$\n",
    "\n",
    "We can convert this into an augmented skew symmetric matrix\n",
    "\n",
    "$$\n",
    "    [\\mathbf{s}(\\upsilon)] =\n",
    "    \\begin{pmatrix}\n",
    "        0 & 0 & 0 & \\upsilon_1 \\\\\n",
    "        0 & 0 & 0 & \\upsilon_2 \\\\\n",
    "        0 & 0 & 0 & \\upsilon_3 \\\\\n",
    "        0 & 0 & 0 & 0\n",
    "    \\end{pmatrix}\n",
    "$$\n",
    "\n",
    "and we can convert this matrix into an $\\mathbf{SE}(3)$ matrix using the matrix exponential\n",
    "\n",
    "\\begin{align*}\n",
    "    \\mathbf{T}(\\upsilon)\n",
    "    &= e^{[\\mathbf{s}(\\upsilon)]} \\\\\n",
    "    &=\n",
    "    \\begin{pmatrix}\n",
    "        1 & 0 & 0 & \\upsilon_1 \\\\\n",
    "        0 & 1 & 0 & \\upsilon_2 \\\\\n",
    "        0 & 0 & 1 & \\upsilon_3 \\\\\n",
    "        0 & 0 & 0 & 1\n",
    "    \\end{pmatrix}\n",
    "\\end{align*}\n",
    "\n"
   ]
  },
  {
   "attachments": {},
   "cell_type": "markdown",
   "metadata": {},
   "source": [
    "For the case where there is no rotation, the translation component of the twist $\\mathbf{\\upsilon}$ to the translation component $\\mathbf{t}$ of the $\\mathbf{SE}(3)$ matrix."
   ]
  },
  {
   "cell_type": "code",
   "execution_count": 3,
   "metadata": {},
   "outputs": [
    {
     "name": "stdout",
     "output_type": "stream",
     "text": [
      "[[ 0.54  -0.841 -0.078]\n",
      " [ 0.841  0.54   2.143]\n",
      " [ 0.     0.     1.   ]]\n",
      "2.144056188936895\n",
      "2.23606797749979\n"
     ]
    }
   ],
   "source": [
    "x = sym.Symbol('x')\n",
    "y = sym.Symbol('y')\n",
    "z = sym.Symbol('\\\\theta')\n",
    "\n",
    "# s = np.array([\n",
    "#     [0, -z, x],\n",
    "#     [z, 0, y],\n",
    "#     [0, 0, 0]\n",
    "# ])\n",
    "\n",
    "# t = sym.simplify(sym.Matrix(s).exp())\n",
    "\n",
    "# ds.display(ds.Math(f\"exp(s) = {sym.latex(sym.simplify(t))}\"))\n",
    "\n",
    "\n",
    "theta = 1.0\n",
    "s = np.array([\n",
    "    [0, -theta, 1.0],\n",
    "    [theta, 0, 2.0],\n",
    "    [0, 0, 0]\n",
    "])\n",
    "\n",
    "t = expm(s)\n",
    "\n",
    "# ds.display(ds.Math(f\"exp(s) = {sym.latex(sym.simplify(t))}\"))\n",
    "\n",
    "print(np.round(t, 3))\n",
    "\n",
    "print(np.linalg.norm(t[:2, -1]))\n",
    "print(np.linalg.norm(s[:2, -1]))"
   ]
  },
  {
   "cell_type": "code",
   "execution_count": 4,
   "metadata": {},
   "outputs": [
    {
     "data": {
      "text/latex": [
       "$\\displaystyle g_{\\theta} = \\left[\\begin{matrix}0 & - a\\\\a & 0\\end{matrix}\\right]$"
      ],
      "text/plain": [
       "<IPython.core.display.Math object>"
      ]
     },
     "metadata": {},
     "output_type": "display_data"
    },
    {
     "data": {
      "text/latex": [
       "$\\displaystyle R = \\left[\\begin{matrix}\\cos{\\left(a \\right)} & - \\sin{\\left(a \\right)}\\\\\\sin{\\left(a \\right)} & \\cos{\\left(a \\right)}\\end{matrix}\\right]$"
      ],
      "text/plain": [
       "<IPython.core.display.Math object>"
      ]
     },
     "metadata": {},
     "output_type": "display_data"
    },
    {
     "data": {
      "text/latex": [
       "$\\displaystyle dR = \\left[\\begin{matrix}- \\sin{\\left(a \\right)} & - \\cos{\\left(a \\right)}\\\\\\cos{\\left(a \\right)} & - \\sin{\\left(a \\right)}\\end{matrix}\\right]$"
      ],
      "text/plain": [
       "<IPython.core.display.Math object>"
      ]
     },
     "metadata": {},
     "output_type": "display_data"
    },
    {
     "data": {
      "text/latex": [
       "$\\displaystyle dR(\\theta=0.7853981633974483) = \\left[\\begin{matrix}-0.707106781186547 & -0.707106781186548\\\\0.707106781186548 & -0.707106781186547\\end{matrix}\\right]$"
      ],
      "text/plain": [
       "<IPython.core.display.Math object>"
      ]
     },
     "metadata": {},
     "output_type": "display_data"
    },
    {
     "data": {
      "text/latex": [
       "$\\displaystyle R(\\theta=0.7853981633974483) = \\left[\\begin{matrix}0.707106781186548 & -0.707106781186547\\\\0.707106781186547 & 0.707106781186548\\end{matrix}\\right]$"
      ],
      "text/plain": [
       "<IPython.core.display.Math object>"
      ]
     },
     "metadata": {},
     "output_type": "display_data"
    },
    {
     "data": {
      "text/latex": [
       "$\\displaystyle {\\omega} = \\left[\\begin{matrix}0 & -1.0\\\\1.0 & 0\\end{matrix}\\right]$"
      ],
      "text/plain": [
       "<IPython.core.display.Math object>"
      ]
     },
     "metadata": {},
     "output_type": "display_data"
    },
    {
     "data": {
      "text/latex": [
       "$\\displaystyle \\eta = \\left[\\begin{matrix}0 & -0.79\\\\0.79 & 0\\end{matrix}\\right]$"
      ],
      "text/plain": [
       "<IPython.core.display.Math object>"
      ]
     },
     "metadata": {},
     "output_type": "display_data"
    }
   ],
   "source": [
    "a = sym.Symbol('a')\n",
    "\n",
    "g = np.array([[0, -1], [1, 0]])\n",
    "\n",
    "g_theta = sym.Matrix(a * g)\n",
    "\n",
    "ds.display(ds.Math(f\"g_{{\\\\theta}} = {sym.latex(g_theta)}\"))\n",
    "\n",
    "r = sym.simplify(sym.Matrix(a * g).exp())\n",
    "\n",
    "ds.display(ds.Math(f\"R = {sym.latex(sym.Matrix(r))}\"))\n",
    "\n",
    "dr = sym.diff(r, a)\n",
    "\n",
    "ds.display(ds.Math(f\"dR = {sym.latex(sym.Matrix(dr))}\"))\n",
    "\n",
    "theta = np.pi/4\n",
    "\n",
    "dr_eye = sym.simplify(dr.subs(a, theta)).evalf()\n",
    "\n",
    "ds.display(ds.Math(f\"dR(\\\\theta={theta}) = {sym.latex(sym.Matrix(dr_eye))}\"))\n",
    "\n",
    "r_eval = sym.simplify(r.subs(a, theta)).evalf()\n",
    "\n",
    "ds.display(ds.Math(f\"R(\\\\theta={theta}) = {sym.latex(sym.Matrix(r_eval))}\"))\n",
    "\n",
    "what = dr_eye @ r_eval.T\n",
    "\n",
    "ds.display(ds.Math(f\"{{\\\\omega}} = {sym.latex(sym.Matrix(what))}\"))\n",
    "\n",
    "ds.display(ds.Math(f\"\\\\eta = {sym.latex(sym.Matrix(np.round(logm(np.array(r_eval, dtype=np.float64)), 2)))}\"))\n",
    "\n",
    "\n",
    "# rs = sym.Matrix(sm.SO2(a).A)\n",
    "\n",
    "# print(rs)\n",
    "\n",
    "# drs = sym.diff(rs, a)\n",
    "\n",
    "# print(drs)\n",
    "\n",
    "\n",
    "\n",
    "# print(drs.subs(a, 1.5))\n",
    "\n"
   ]
  },
  {
   "cell_type": "code",
   "execution_count": 5,
   "metadata": {},
   "outputs": [
    {
     "name": "stdout",
     "output_type": "stream",
     "text": [
      "(1 2 4; 0 0 30)\n",
      "  \u001b[38;5;1m 0.1543  \u001b[0m \u001b[38;5;1m 0.988   \u001b[0m \u001b[38;5;1m 0       \u001b[0m \u001b[38;5;4m-0.08932 \u001b[0m  \u001b[0m\n",
      "  \u001b[38;5;1m-0.988   \u001b[0m \u001b[38;5;1m 0.1543  \u001b[0m \u001b[38;5;1m 0       \u001b[0m \u001b[38;5;4m-0.03768 \u001b[0m  \u001b[0m\n",
      "  \u001b[38;5;1m 0       \u001b[0m \u001b[38;5;1m 0       \u001b[0m \u001b[38;5;1m 1       \u001b[0m \u001b[38;5;4m 4       \u001b[0m  \u001b[0m\n",
      "  \u001b[38;5;244m 0       \u001b[0m \u001b[38;5;244m 0       \u001b[0m \u001b[38;5;244m 0       \u001b[0m \u001b[38;5;244m 1       \u001b[0m  \u001b[0m\n",
      "\n",
      "[-2.  1.  0.]\n"
     ]
    }
   ],
   "source": [
    "s = sm.Twist3([1, 2, 4, 0, 0, 30])\n",
    "\n",
    "print(s)\n",
    "\n",
    "print(s.exp())\n",
    "\n",
    "print(s.pole)\n"
   ]
  },
  {
   "cell_type": "code",
   "execution_count": 6,
   "metadata": {},
   "outputs": [
    {
     "name": "stdout",
     "output_type": "stream",
     "text": [
      "[0.04610917 0.45884249 0.88732041]\n",
      "0.8891940170738892\n",
      "[-0.887320410225429*y + 0.458842493500602*z\n",
      " 0.887320410225429*x - 0.0461091721409918*z\n",
      " -0.458842493500602*x + 0.0461091721409918*y]\n"
     ]
    }
   ],
   "source": [
    "x, y, z = sym.symbols('x y z')\n",
    "\n",
    "t = np.array([x, y, z])\n",
    "\n",
    "a = np.array([0.041, 0.408, 0.789])\n",
    "theta = np.linalg.norm(a)\n",
    "ahat = a/theta\n",
    "\n",
    "print(ahat)\n",
    "\n",
    "print(theta)\n",
    "\n",
    "askew = smb.skew(ahat)\n",
    "\n",
    "print(askew @ t)"
   ]
  },
  {
   "attachments": {},
   "cell_type": "markdown",
   "metadata": {},
   "source": [
    "<br>\n",
    "\n",
    "<a id='2'></a>\n",
    "# 2.0 Interpolation of Orientation\n",
    "---"
   ]
  },
  {
   "attachments": {},
   "cell_type": "markdown",
   "metadata": {},
   "source": [
    "In robotics, we often need to interpolate orientation. This essentially means that we wish to smoothly transition from one orientation to another and to achieve this we create a sequence of orientations that smoothly approach the desired orientation while starting at the original.\n",
    "\n",
    "More specifically, given two orientations ${^0\\mathbf{R}_a}$ and ${^a\\mathbf{R}_b}$, we require a function $f(s) = \\sigma({^0\\mathbf{R}_a}, {^0\\mathbf{R}_b}, s)$ where $s \\in [0, 1]$ and we have boundary conditions that give $f(0) = {^0\\mathbf{R}_a}$ and $f(1) = {^0\\mathbf{R}_b}$. The function must vary _smoothly_ for intermediate values of $s$."
   ]
  },
  {
   "attachments": {},
   "cell_type": "markdown",
   "metadata": {},
   "source": [
    "We wish to interpolate in the context of __robotics__. This means that we have boundary conditions. A drone, car, or manipulator cannot instantly _step_ in velocity, to do so would require infinite acceleration. The boundary conditions are that at time $t=0$ we have a set velocity, acceleration, jerk, and so on. We also have a desired velocity, acceleration, jerk, and so on at time $t=T$. Our interpolation function must satisfy these boundary conditions and also smoothly transition between the two for each of these values."
   ]
  },
  {
   "attachments": {},
   "cell_type": "markdown",
   "metadata": {},
   "source": [
    "## 2.1 Smooth One-Dimensional Trajectory"
   ]
  },
  {
   "attachments": {},
   "cell_type": "markdown",
   "metadata": {},
   "source": [
    "We start our discussion with a scalar function of time that has a\n",
    "specified initial and final value.\n",
    "An obvious candidate for such a smooth function is a polynomial\n",
    "function of time. Polynomials are\n",
    "simple to compute and can easily provide the required smoothness and boundary conditions. A quintic\n",
    "(fifth-order) polynomial is commonly used\n",
    "\n",
    "$$\n",
    "\tq(t)=At^{5}+Bt^{4}+Ct^{3}+Dt^{2}+Et+F\n",
    "$$\n",
    "\n",
    "where time $t\\in [0,T]$. The first- and second-derivatives are also polynomials\n",
    "\n",
    "\\begin{align*}\n",
    "\t\\dot{q}(t)  &= 5At^{4}+4Bt^{3}+3Ct^{2}+2Dt+E \\\\\n",
    "\t\\ddot{q}(t) &= 20At^{3}+12Bt^{2}+6Ct+2D\n",
    "\\end{align*}\n",
    "\n",
    "and therefore smooth. The third-derivative, jerk, will be a quadratic.\n",
    "\n",
    "The trajectory has defined boundary conditions for position ($q_0$, $q_T$), velocity ($\\dot{q}_0$, $\\dot{q}_T$) and\n",
    "acceleration ($\\ddot{q}_0$, $\\ddot{q}_T$).\n",
    "Writing $q(t)$ to $\\ddot{q}(t)$ for the boundary conditions $t=0$ and $t=T$ gives six\n",
    "equations which we can write in matrix form as\n",
    "\n",
    "$$\n",
    "\t\\left(\\begin{array}{c}\n",
    "\t\tq_{0}\\cr\n",
    "\t\tq_{T}\\cr\n",
    "\t\t\\dot{q}_{0}\\cr\n",
    "\t\t\\dot{q}_{T}\\cr\n",
    "\t\t\\ddot{q}_{0}\\cr\n",
    "\t\t\\ddot{q}_{T}\n",
    "\t\\end{array}\\right)%þ\n",
    "\t=\\begin{pmatrix}\n",
    "\t\t0       & 0       & 0      & 0     & 0 & 1\\cr\n",
    "\t\tT^{5}   & T^{4}   & T^{3}  & T^{2} & T & 1\\cr\n",
    "\t\t0       & 0       & 0      & 0     & 1 & 0\\cr\n",
    "\t\t5T^{4}  & 4T^{3}  & 3T^{2} & 2T    & 1 & 0\\cr\n",
    "\t\t0       & 0       & 0      & 2     & 0 & 0\\cr\n",
    "\t\t20T^{3} & 12T^{2} & 6T     & 2     & 0 & 0\n",
    "\t\\end{pmatrix}\n",
    "\t\\left(\\begin{array}{c}\n",
    "\t\tA\\cr\n",
    "\t\tB\\cr\n",
    "\t\tC\\cr\n",
    "\t\tD\\cr\n",
    "\t\tE\\cr\n",
    "\t\tF\n",
    "\t\\end{array}\\right)  \\,\\,.\n",
    "$$\n",
    "\n",
    "The matrix is square and, if $T \\ne 0$, we can invert it to solve for the coefficient vector $(A, B, C, D, E, F)$.\n",
    "\n",
    "_This is the reason for choice of quintic polynomial. It has six coefficients that enable it to meet the six boundary conditions on initial and final position, velocity and acceleration._"
   ]
  },
  {
   "cell_type": "code",
   "execution_count": 3,
   "metadata": {},
   "outputs": [],
   "source": [
    "q0 = 0\n",
    "qf = 1.0\n",
    "\n",
    "T = 10.0\n",
    "\n",
    "qd0 = 0.0\n",
    "qdf = 0.0\n",
    "\n",
    "qdd0 = 0.0\n",
    "qddf = 0.0\n",
    "\n",
    "q = np.array([\n",
    "    [q0],\n",
    "    [qf],\n",
    "    [qd0],\n",
    "    [qdf],\n",
    "    [qdd0],\n",
    "    [qddf],\n",
    "])\n",
    "\n",
    "X = np.array([\n",
    "    [0, 0, 0, 0, 0, 1],\n",
    "    [T**5, T**4, T**3, T**2, T, 1],\n",
    "    [0, 0, 0, 0, 1, 0],\n",
    "    [5 * T**4, 4 * T**3, 3 * T**2, 2 * T, 1, 0],\n",
    "    [0, 0, 0, 2, 0, 0],\n",
    "    [20 * T**3, 12 * T**2, 6 * T, 2, 0, 0],\n",
    "])\n",
    "\n",
    "coeffs = np.linalg.inv(X) @ q"
   ]
  },
  {
   "attachments": {},
   "cell_type": "markdown",
   "metadata": {},
   "source": [
    "## Interpolation using RPY Angles\n",
    "\n",
    "A simple approach to interpolation is to convert or rotations to roll-pitch-yaw angles, $\\Gamma \\in (\\mathbf{S^1})^3$ and use linear interpolation\n",
    "\n",
    "$$\n",
    "    \\sigma(\\Gamma_0, \\ \\Gamma_1, \\ s) = (1 - s) \\Gamma_0 + s \\Gamma_1\n",
    "$$\n",
    "\n",
    "where $s \\in [0, 1]$. We can then convert the interpolated roll-pitch-yaw angles back to a rotation matrix."
   ]
  },
  {
   "cell_type": "code",
   "execution_count": 37,
   "metadata": {},
   "outputs": [
    {
     "data": {
      "text/latex": [
       "$\\displaystyle R_0 = \\left[\\begin{matrix}0.29 & 0.84 & -0.45\\\\-0.45 & 0.54 & 0.71\\\\0.84 & 0 & 0.54\\end{matrix}\\right]$"
      ],
      "text/plain": [
       "<IPython.core.display.Math object>"
      ]
     },
     "metadata": {},
     "output_type": "display_data"
    },
    {
     "data": {
      "text/latex": [
       "$\\displaystyle R_1 = \\left[\\begin{matrix}0.29 & -0.84 & 0.45\\\\0.45 & 0.54 & 0.71\\\\-0.84 & 0 & 0.54\\end{matrix}\\right]$"
      ],
      "text/plain": [
       "<IPython.core.display.Math object>"
      ]
     },
     "metadata": {},
     "output_type": "display_data"
    },
    {
     "name": "stdout",
     "output_type": "stream",
     "text": [
      "[[ 0.          0.          0.          0.          0.        ]\n",
      " [-1.         -0.99983516 -0.99872193 -0.99582128 -0.9904089 ]\n",
      " [-1.         -0.99983516 -0.99872193 -0.99582128 -0.9904089 ]]\n",
      "[[ 0.          0.          0.          0.          0.        ]\n",
      " [-1.         -0.95918367 -0.91836735 -0.87755102 -0.83673469]\n",
      " [-1.         -0.95918367 -0.91836735 -0.87755102 -0.83673469]]\n"
     ]
    }
   ],
   "source": [
    "R0 = sm.SO3.Rz(-1) * sm.SO3.Ry(-1)\n",
    "R1 = sm.SO3.Rz(1) * sm.SO3.Ry(1)\n",
    "\n",
    "rpy0 = np.expand_dims(R0.rpy(), axis=1)\n",
    "rpy1 = np.expand_dims(R1.rpy(), axis=1)\n",
    "\n",
    "ds.display(ds.Math(f\"R_0 = {sym.latex(sym.Matrix(np.round(R0.A, 2)))}\"))\n",
    "ds.display(ds.Math(f\"R_1 = {sym.latex(sym.Matrix(np.round(R1.A, 2)))}\"))\n",
    "\n",
    "traj1 = rtb.mtraj(rtb.quintic, rpy0, rpy1, 50)\n",
    "\n",
    "s = np.linspace(0, 1, 50)\n",
    "\n",
    "traj2 = (1 - s) * rpy0 + s * rpy1\n",
    "\n",
    "print(traj1.q[:5, :].T)\n",
    "\n",
    "print(traj2[:, :5])\n"
   ]
  }
 ],
 "metadata": {
  "kernelspec": {
   "display_name": "egh432",
   "language": "python",
   "name": "python3"
  },
  "language_info": {
   "codemirror_mode": {
    "name": "ipython",
    "version": 3
   },
   "file_extension": ".py",
   "mimetype": "text/x-python",
   "name": "python",
   "nbconvert_exporter": "python",
   "pygments_lexer": "ipython3",
   "version": "3.11.0"
  },
  "orig_nbformat": 4
 },
 "nbformat": 4,
 "nbformat_minor": 2
}
