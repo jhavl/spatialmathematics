{
 "cells": [
  {
   "cell_type": "code",
   "execution_count": 1,
   "metadata": {},
   "outputs": [],
   "source": [
    "try:\n",
    "    # We must install required packages if we are in Google Colab\n",
    "    import google.colab\n",
    "    !pip install ipympl\n",
    "except:\n",
    "    pass\n",
    "\n",
    "import numpy as np\n",
    "import matplotlib.pyplot as plt\n",
    "%matplotlib widget"
   ]
  },
  {
   "attachments": {},
   "cell_type": "markdown",
   "metadata": {},
   "source": [
    "\n",
    "$\\large{\\text{Foundations of Kinematics and Algorithms in Robotics}} \\\\ \\large{\\text{Module 0: Linear Transformations}}$\n",
    "\n",
    "$\\text{By Peter Corke and Jesse Haviland}$\n",
    "\n",
    "This is a brief exploration of linear transformations to help visualise what is happening geometrically when we apply a linear transformation to a vector."
   ]
  },
  {
   "attachments": {},
   "cell_type": "markdown",
   "metadata": {},
   "source": [
    "We have a matrix $\\mathbf{A}$ and a vector $\\mathbf{p}$."
   ]
  },
  {
   "cell_type": "code",
   "execution_count": 2,
   "metadata": {},
   "outputs": [],
   "source": [
    "A = np.array([[2, 1], [3, 4]])\n",
    "p = np.array([-2, 1])"
   ]
  },
  {
   "attachments": {},
   "cell_type": "markdown",
   "metadata": {},
   "source": [
    "### Question 1\n",
    "\n",
    "Write code to plot the original point `p` and its linear transformation by `A`"
   ]
  },
  {
   "cell_type": "code",
   "execution_count": 3,
   "metadata": {},
   "outputs": [
    {
     "data": {
      "application/vnd.jupyter.widget-view+json": {
       "model_id": "e9f6e2338c9d42188d0227b3f04f4f31",
       "version_major": 2,
       "version_minor": 0
      },
      "image/png": "[encoded data removed]",
      "text/html": [
       "\n",
       "            <div style=\"display: inline-block;\">\n",
       "                <div class=\"jupyter-widgets widget-label\" style=\"text-align: center;\">\n",
       "                    Figure\n",
       "                </div>\n",
       "                <img src='data:image/png;base64,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' width=640.0/>\n",
       "            </div>\n",
       "        "
      ],
      "text/plain": [
       "Canvas(toolbar=Toolbar(toolitems=[('Home', 'Reset original view', 'home', 'home'), ('Back', 'Back to previous …"
      ]
     },
     "metadata": {},
     "output_type": "display_data"
    }
   ],
   "source": [
    "q = A @ p\n",
    "plt.plot(p[0], p[1], 'o')\n",
    "plt.plot(q[0], q[1], 'x')\n",
    "plt.show()"
   ]
  },
  {
   "attachments": {},
   "cell_type": "markdown",
   "metadata": {},
   "source": [
    "### Question 2\n",
    "\n",
    "What point would be transformed to itself (hint, think about eigenvalues and eigenvectors)"
   ]
  },
  {
   "cell_type": "code",
   "execution_count": null,
   "metadata": {},
   "outputs": [],
   "source": [
    "# your code goes here"
   ]
  },
  {
   "attachments": {},
   "cell_type": "markdown",
   "metadata": {},
   "source": [
    "### Question 3\n",
    "\n",
    "Now we want to transform the 4 vertices of a square of side length 2 that is centred at the origin and whose sides are parallel to the x- and y-axes.  You can do this using a **single** matrix multiplication using the $\\mathbf{A}$ matrix.  Plot the original square and the transformed square with lines joining the vertices: blue for the original square, red for the transformed square.  Ensure that the plot has a 1:1 aspect ratio."
   ]
  },
  {
   "cell_type": "code",
   "execution_count": null,
   "metadata": {},
   "outputs": [],
   "source": [
    "plt.figure()\n",
    "\n",
    "# your code goes here"
   ]
  },
  {
   "attachments": {},
   "cell_type": "markdown",
   "metadata": {},
   "source": [
    "### Question 4\n",
    "Compute the volume of this shape.  There are algorithms to do this, search for \"area of a polygon\" or \"moments of a polygon\". How much has the area increased by?  What is the determinant of this matrix?"
   ]
  },
  {
   "cell_type": "code",
   "execution_count": null,
   "metadata": {},
   "outputs": [],
   "source": [
    "# your code goes here"
   ]
  },
  {
   "attachments": {},
   "cell_type": "markdown",
   "metadata": {},
   "source": [
    "### Question 5\n",
    "Plot the original and transformed square with the matrix $\\mathbf{A} = \\begin{pmatrix} 2 & 1 \\\\ 8 & 4 \\end{pmatrix}$.  \n",
    "\n",
    "What happens?  What is the volume of the resulting polygon?  What is the determinant of this matrix?"
   ]
  },
  {
   "cell_type": "code",
   "execution_count": null,
   "metadata": {},
   "outputs": [],
   "source": [
    "plt.figure()\n",
    "\n",
    "# your code goes here\n"
   ]
  },
  {
   "attachments": {},
   "cell_type": "markdown",
   "metadata": {},
   "source": [
    "### Question 6\n",
    "Plot the original and transformed square with the matrix $\\mathbf{A} =\\begin{pmatrix} 2 & 0 \\\\ 0 & 2 \\end{pmatrix}$.  \n",
    "\n",
    "What happens?  What is the volume of the resulting polygon?  What is the determinant of this matrix?"
   ]
  },
  {
   "cell_type": "code",
   "execution_count": null,
   "metadata": {},
   "outputs": [],
   "source": [
    "plt.figure()\n",
    "\n",
    "# your code goes here\n"
   ]
  },
  {
   "attachments": {},
   "cell_type": "markdown",
   "metadata": {},
   "source": [
    "### Question 7\n",
    "\n",
    "Plot the original and transformed square with the matrix $\\mathbf{A} = \\begin{pmatrix} 2 & 0 \\\\ 0 & 4 \\end{pmatrix}$.  \n",
    "\n",
    "What happens?  What is the volume of the resulting polygon?  What is the determinant of this matrix?"
   ]
  },
  {
   "cell_type": "code",
   "execution_count": null,
   "metadata": {},
   "outputs": [],
   "source": [
    "plt.figure()\n",
    "\n",
    "# your code goes here\n"
   ]
  },
  {
   "attachments": {},
   "cell_type": "markdown",
   "metadata": {},
   "source": [
    "### Question 8\n",
    "Plot the original and transformed square with the matrix $\\mathbf{A} = \\begin{pmatrix} 1 & -1 \\\\ 1 & 1 \\end{pmatrix}$.  \n",
    "\n",
    "What happens?  What is the volume of the resulting polygon?  What is the determinant of this matrix?"
   ]
  },
  {
   "cell_type": "code",
   "execution_count": null,
   "metadata": {},
   "outputs": [],
   "source": [
    "plt.figure()\n",
    "\n",
    "# your code goes here\n"
   ]
  },
  {
   "attachments": {},
   "cell_type": "markdown",
   "metadata": {},
   "source": [
    "### Question 9\n",
    "\n",
    "Find a value of $\\mathbf{A}$ that would ensure the red square had the same side length as the blue square? What is the determinant of this matrix?"
   ]
  },
  {
   "cell_type": "code",
   "execution_count": null,
   "metadata": {},
   "outputs": [],
   "source": [
    "plt.figure()\n",
    "\n",
    "# your code goes here\n"
   ]
  },
  {
   "attachments": {},
   "cell_type": "markdown",
   "metadata": {},
   "source": [
    "### Question 10\n",
    "\n",
    "This is a 45 degree rotation.  How could you make a 60 degree rotation?"
   ]
  },
  {
   "cell_type": "code",
   "execution_count": null,
   "metadata": {},
   "outputs": [],
   "source": [
    "plt.figure()\n",
    "\n",
    "# your code goes here\n"
   ]
  },
  {
   "attachments": {},
   "cell_type": "markdown",
   "metadata": {},
   "source": [
    "Now we are going to animate a rotating square.  You just need to fill in the missing bits."
   ]
  },
  {
   "cell_type": "code",
   "execution_count": null,
   "metadata": {},
   "outputs": [],
   "source": [
    "from matplotlib.animation import FuncAnimation\n",
    "\n",
    "def update(theta):\n",
    "    plt.clf()\n",
    "\n",
    "    # your code goes here, use plt.plot(xdata, ydata, \"r\")\n",
    "\n",
    "\n",
    "    # your code goes above here\n",
    "    \n",
    "    ax = plt.gca()\n",
    "    ax.set_xlim(-2, 2)\n",
    "    ax.set_ylim(-2, 2)\n",
    "    ax.set_aspect(\"equal\")\n",
    "\n",
    "fig = plt.figure()\n",
    "ani = FuncAnimation(fig, update, np.linspace(0, 2*np.pi, 100), blit=False, repeat=False)\n"
   ]
  },
  {
   "attachments": {},
   "cell_type": "markdown",
   "metadata": {},
   "source": [
    "### Question 11\n",
    "\n",
    "Is there a value of $\\mathbf{A}$ that could translate the square, that is, move it vertically or horizontally?"
   ]
  },
  {
   "cell_type": "code",
   "execution_count": null,
   "metadata": {},
   "outputs": [],
   "source": [
    "# your code goes here"
   ]
  }
 ],
 "metadata": {
  "kernelspec": {
   "display_name": "base",
   "language": "python",
   "name": "python3"
  },
  "language_info": {
   "codemirror_mode": {
    "name": "ipython",
    "version": 3
   },
   "file_extension": ".py",
   "mimetype": "text/x-python",
   "name": "python",
   "nbconvert_exporter": "python",
   "pygments_lexer": "ipython3",
   "version": "3.10.9"
  },
  "orig_nbformat": 4
 },
 "nbformat": 4,
 "nbformat_minor": 2
}
